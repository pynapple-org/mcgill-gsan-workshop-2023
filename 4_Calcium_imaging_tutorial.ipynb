{
  "nbformat": 4,
  "nbformat_minor": 0,
  "metadata": {
    "colab": {
      "provenance": []
    },
    "kernelspec": {
      "name": "python3",
      "display_name": "Python 3"
    },
    "language_info": {
      "name": "python"
    }
  },
  "cells": [
    {
      "cell_type": "markdown",
      "source": [
        "Working with calcium data.\n",
        "\n",
        "For the example dataset, we will be working with a recording of a freely-moving mouse imaged with a Miniscope (1-photon imaging). The area recorded for this experiment is the postsubiculum - a region that is known to contain head-direction cells, or cells that fire when the animal's head is pointing in a specific direction."
      ],
      "metadata": {
        "id": "FmqshG9EA6fm"
      }
    },
    {
      "cell_type": "markdown",
      "source": [
        "Before we start, we need to install and import the following:"
      ],
      "metadata": {
        "id": "LkcXiMbRBqaw"
      }
    },
    {
      "cell_type": "code",
      "source": [
        "!pip install pynapple matplotlib"
      ],
      "metadata": {
        "colab": {
          "base_uri": "https://localhost:8080/"
        },
        "id": "OfSMI0oCBxxz",
        "outputId": "1b56f2fb-84ef-47d3-94d5-0fdc69246192"
      },
      "execution_count": null,
      "outputs": [
        {
          "output_type": "stream",
          "name": "stderr",
          "text": [
            "/usr/local/lib/python3.10/dist-packages/ipykernel/ipkernel.py:283: DeprecationWarning: `should_run_async` will not call `transform_cell` automatically in the future. Please pass the result to `transformed_cell` argument and any exception that happen during thetransform in `preprocessing_exc_tuple` in IPython 7.17 and above.\n",
            "  and should_run_async(code)\n"
          ]
        },
        {
          "output_type": "stream",
          "name": "stdout",
          "text": [
            "Requirement already satisfied: pynapple in /usr/local/lib/python3.10/dist-packages (0.4.0)\n",
            "Requirement already satisfied: matplotlib in /usr/local/lib/python3.10/dist-packages (3.7.1)\n",
            "Requirement already satisfied: pandas>1.0.3 in /usr/local/lib/python3.10/dist-packages (from pynapple) (1.5.3)\n",
            "Requirement already satisfied: numpy>=1.17.4 in /usr/local/lib/python3.10/dist-packages (from pynapple) (1.23.5)\n",
            "Requirement already satisfied: scipy>=1.3.2 in /usr/local/lib/python3.10/dist-packages (from pynapple) (1.11.3)\n",
            "Requirement already satisfied: numba>=0.46.0 in /usr/local/lib/python3.10/dist-packages (from pynapple) (0.56.4)\n",
            "Requirement already satisfied: pynwb>=2.0.0 in /usr/local/lib/python3.10/dist-packages (from pynapple) (2.5.0)\n",
            "Requirement already satisfied: tabulate in /usr/local/lib/python3.10/dist-packages (from pynapple) (0.9.0)\n",
            "Requirement already satisfied: h5py in /usr/local/lib/python3.10/dist-packages (from pynapple) (3.9.0)\n",
            "Requirement already satisfied: tifffile in /usr/local/lib/python3.10/dist-packages (from pynapple) (2023.9.26)\n",
            "Requirement already satisfied: zarr in /usr/local/lib/python3.10/dist-packages (from pynapple) (2.16.1)\n",
            "Requirement already satisfied: rich in /usr/local/lib/python3.10/dist-packages (from pynapple) (13.6.0)\n",
            "Requirement already satisfied: contourpy>=1.0.1 in /usr/local/lib/python3.10/dist-packages (from matplotlib) (1.1.1)\n",
            "Requirement already satisfied: cycler>=0.10 in /usr/local/lib/python3.10/dist-packages (from matplotlib) (0.12.1)\n",
            "Requirement already satisfied: fonttools>=4.22.0 in /usr/local/lib/python3.10/dist-packages (from matplotlib) (4.43.1)\n",
            "Requirement already satisfied: kiwisolver>=1.0.1 in /usr/local/lib/python3.10/dist-packages (from matplotlib) (1.4.5)\n",
            "Requirement already satisfied: packaging>=20.0 in /usr/local/lib/python3.10/dist-packages (from matplotlib) (23.2)\n",
            "Requirement already satisfied: pillow>=6.2.0 in /usr/local/lib/python3.10/dist-packages (from matplotlib) (9.4.0)\n",
            "Requirement already satisfied: pyparsing>=2.3.1 in /usr/local/lib/python3.10/dist-packages (from matplotlib) (3.1.1)\n",
            "Requirement already satisfied: python-dateutil>=2.7 in /usr/local/lib/python3.10/dist-packages (from matplotlib) (2.8.2)\n",
            "Requirement already satisfied: llvmlite<0.40,>=0.39.0dev0 in /usr/local/lib/python3.10/dist-packages (from numba>=0.46.0->pynapple) (0.39.1)\n",
            "Requirement already satisfied: setuptools in /usr/local/lib/python3.10/dist-packages (from numba>=0.46.0->pynapple) (67.7.2)\n",
            "Requirement already satisfied: pytz>=2020.1 in /usr/local/lib/python3.10/dist-packages (from pandas>1.0.3->pynapple) (2023.3.post1)\n",
            "Requirement already satisfied: hdmf>=3.9.0 in /usr/local/lib/python3.10/dist-packages (from pynwb>=2.0.0->pynapple) (3.10.0)\n",
            "Requirement already satisfied: six>=1.5 in /usr/local/lib/python3.10/dist-packages (from python-dateutil>=2.7->matplotlib) (1.16.0)\n",
            "Requirement already satisfied: markdown-it-py>=2.2.0 in /usr/local/lib/python3.10/dist-packages (from rich->pynapple) (3.0.0)\n",
            "Requirement already satisfied: pygments<3.0.0,>=2.13.0 in /usr/local/lib/python3.10/dist-packages (from rich->pynapple) (2.16.1)\n",
            "Requirement already satisfied: asciitree in /usr/local/lib/python3.10/dist-packages (from zarr->pynapple) (0.3.3)\n",
            "Requirement already satisfied: fasteners in /usr/local/lib/python3.10/dist-packages (from zarr->pynapple) (0.19)\n",
            "Requirement already satisfied: numcodecs>=0.10.0 in /usr/local/lib/python3.10/dist-packages (from zarr->pynapple) (0.12.1)\n",
            "Requirement already satisfied: jsonschema>=2.6.0 in /usr/local/lib/python3.10/dist-packages (from hdmf>=3.9.0->pynwb>=2.0.0->pynapple) (4.19.1)\n",
            "Requirement already satisfied: ruamel-yaml>=0.16 in /usr/local/lib/python3.10/dist-packages (from hdmf>=3.9.0->pynwb>=2.0.0->pynapple) (0.18.2)\n",
            "Requirement already satisfied: mdurl~=0.1 in /usr/local/lib/python3.10/dist-packages (from markdown-it-py>=2.2.0->rich->pynapple) (0.1.2)\n",
            "Requirement already satisfied: attrs>=22.2.0 in /usr/local/lib/python3.10/dist-packages (from jsonschema>=2.6.0->hdmf>=3.9.0->pynwb>=2.0.0->pynapple) (23.1.0)\n",
            "Requirement already satisfied: jsonschema-specifications>=2023.03.6 in /usr/local/lib/python3.10/dist-packages (from jsonschema>=2.6.0->hdmf>=3.9.0->pynwb>=2.0.0->pynapple) (2023.7.1)\n",
            "Requirement already satisfied: referencing>=0.28.4 in /usr/local/lib/python3.10/dist-packages (from jsonschema>=2.6.0->hdmf>=3.9.0->pynwb>=2.0.0->pynapple) (0.30.2)\n",
            "Requirement already satisfied: rpds-py>=0.7.1 in /usr/local/lib/python3.10/dist-packages (from jsonschema>=2.6.0->hdmf>=3.9.0->pynwb>=2.0.0->pynapple) (0.10.6)\n",
            "Requirement already satisfied: ruamel.yaml.clib>=0.2.7 in /usr/local/lib/python3.10/dist-packages (from ruamel-yaml>=0.16->hdmf>=3.9.0->pynwb>=2.0.0->pynapple) (0.2.8)\n"
          ]
        }
      ]
    },
    {
      "cell_type": "code",
      "source": [
        "import pynapple as nap\n",
        "import numpy as pd\n",
        "from pylab import *\n",
        "import sys, os\n",
        "import requests, math\n",
        "import tqdm"
      ],
      "metadata": {
        "colab": {
          "base_uri": "https://localhost:8080/"
        },
        "id": "PzyQkcU_DLmS",
        "outputId": "b9d9730a-b1a3-4177-8beb-b816885eda7c"
      },
      "execution_count": null,
      "outputs": [
        {
          "output_type": "stream",
          "name": "stderr",
          "text": [
            "/usr/local/lib/python3.10/dist-packages/ipykernel/ipkernel.py:283: DeprecationWarning: `should_run_async` will not call `transform_cell` automatically in the future. Please pass the result to `transformed_cell` argument and any exception that happen during thetransform in `preprocessing_exc_tuple` in IPython 7.17 and above.\n",
            "  and should_run_async(code)\n"
          ]
        }
      ]
    },
    {
      "cell_type": "markdown",
      "source": [
        "First things first: Let's find our file"
      ],
      "metadata": {
        "id": "pOyamiXWBgzd"
      }
    },
    {
      "cell_type": "code",
      "execution_count": null,
      "metadata": {
        "colab": {
          "base_uri": "https://localhost:8080/"
        },
        "id": "i2sxh6vKAytC",
        "outputId": "5744eaec-271b-4804-e96a-ceff9775208e"
      },
      "outputs": [
        {
          "output_type": "stream",
          "name": "stderr",
          "text": [
            "/usr/local/lib/python3.10/dist-packages/ipykernel/ipkernel.py:283: DeprecationWarning: `should_run_async` will not call `transform_cell` automatically in the future. Please pass the result to `transformed_cell` argument and any exception that happen during thetransform in `preprocessing_exc_tuple` in IPython 7.17 and above.\n",
            "  and should_run_async(code)\n",
            "72.0MB [00:24, 2.92MB/s]\n"
          ]
        }
      ],
      "source": [
        "path = \"A0670-221213.nwb\"\n",
        "if path not in os.listdir(\".\"):\n",
        "  r = requests.get(f\"https://osf.io/sbnaw/download\", stream=True)\n",
        "  block_size = 1024*1024\n",
        "  with open(path, 'wb') as f:\n",
        "    for data in tqdm.tqdm(r.iter_content(block_size), unit='MB', unit_scale=True,\n",
        "      total=math.ceil(int(r.headers.get('content-length', 0))//block_size)):\n",
        "      f.write(data)"
      ]
    },
    {
      "cell_type": "markdown",
      "source": [
        "Now that we have the file, let's load the data"
      ],
      "metadata": {
        "id": "5bekrWhvD9MY"
      }
    },
    {
      "cell_type": "code",
      "source": [
        "data = nap.load_file(path)\n",
        "print(data)"
      ],
      "metadata": {
        "colab": {
          "base_uri": "https://localhost:8080/"
        },
        "id": "loDGRFyvENQu",
        "outputId": "7090947c-f321-4206-f776-0ee09f22551c"
      },
      "execution_count": null,
      "outputs": [
        {
          "output_type": "stream",
          "name": "stderr",
          "text": [
            "/usr/local/lib/python3.10/dist-packages/ipykernel/ipkernel.py:283: DeprecationWarning: `should_run_async` will not call `transform_cell` automatically in the future. Please pass the result to `transformed_cell` argument and any exception that happen during thetransform in `preprocessing_exc_tuple` in IPython 7.17 and above.\n",
            "  and should_run_async(code)\n"
          ]
        },
        {
          "output_type": "stream",
          "name": "stdout",
          "text": [
            "A0670-221213\n",
            "┍━━━━━━━━━━━━━━━━━━━━━━━┯━━━━━━━━━━━━━┑\n",
            "│ Keys                  │ Type        │\n",
            "┝━━━━━━━━━━━━━━━━━━━━━━━┿━━━━━━━━━━━━━┥\n",
            "│ position_time_support │ IntervalSet │\n",
            "│ RoiResponseSeries     │ TsdFrame    │\n",
            "│ z                     │ Tsd         │\n",
            "│ y                     │ Tsd         │\n",
            "│ x                     │ Tsd         │\n",
            "│ rz                    │ Tsd         │\n",
            "│ ry                    │ Tsd         │\n",
            "│ rx                    │ Tsd         │\n",
            "┕━━━━━━━━━━━━━━━━━━━━━━━┷━━━━━━━━━━━━━┙\n"
          ]
        }
      ]
    },
    {
      "cell_type": "markdown",
      "source": [
        "We have several items in our NWB file. We can take a closer look at them to familiarize ourselves with what we are working with."
      ],
      "metadata": {
        "id": "UNSe0vMKE51C"
      }
    },
    {
      "cell_type": "markdown",
      "source": [
        "**Exercise 1**:\n",
        "Save the RoiResponseSeries as a variable called 'transients' and print it."
      ],
      "metadata": {
        "id": "QWcyT5hWF1Wt"
      }
    },
    {
      "cell_type": "code",
      "source": [],
      "metadata": {
        "id": "E46mxxlGEwKi"
      },
      "execution_count": null,
      "outputs": []
    },
    {
      "cell_type": "markdown",
      "source": [
        "Our transients are saved as a (35757, 65) TsdFrame. Looking at the printed object, you can see that we have 35757 data points for each of our 65 regions of interest. We want to see which of these are head-direction cells, so we need to plot a tuning curve of fluorescence vs head-direction of the animal."
      ],
      "metadata": {
        "id": "uXj7oyFaGgjq"
      }
    },
    {
      "cell_type": "markdown",
      "source": [
        "**Exercise 2**: Plot the first 2,000 data points for our first region of interest. Remember: python starts counting at 0."
      ],
      "metadata": {
        "id": "zpo0VQ7TIdL7"
      }
    },
    {
      "cell_type": "code",
      "source": [],
      "metadata": {
        "id": "FE4-TO4aIpCR"
      },
      "execution_count": null,
      "outputs": []
    },
    {
      "cell_type": "markdown",
      "source": [
        "You'll see that our signal for a single region of interest indeed looks typical for a calcium transient: we have a fast increase of fluorescence and a slow decay that follows. Now let's see if we can plot some tuning curves!"
      ],
      "metadata": {
        "id": "K-cszJrSJ3os"
      }
    },
    {
      "cell_type": "markdown",
      "source": [
        "**Exercise 3**: Save the ry key as a variable called 'angle' and check the time_support for both variables we have so far\n",
        "\n",
        "---\n",
        "\n"
      ],
      "metadata": {
        "id": "HXK1sCuZHNGH"
      }
    },
    {
      "cell_type": "code",
      "source": [],
      "metadata": {
        "id": "LFXWF40CFL9q"
      },
      "execution_count": null,
      "outputs": []
    },
    {
      "cell_type": "code",
      "source": [],
      "metadata": {
        "id": "HmS5jxYbHodc"
      },
      "execution_count": null,
      "outputs": []
    },
    {
      "cell_type": "markdown",
      "source": [
        "As you can see, we have a longer recording for our tracking of the animal's head than we do for our calcium imaging - something to keep in mind."
      ],
      "metadata": {
        "id": "r4yI0Y3RIEqr"
      }
    },
    {
      "cell_type": "markdown",
      "source": [
        "**Exercise 4**: Use the right pynapple function to compute our tuning curves using 120 bins. Remember, we are working with a TsdFrame here.\n",
        "\n",
        "After computing the tuning curves, make sure you print the variable so you can see what it looks like!"
      ],
      "metadata": {
        "id": "qeXfocmlLVIk"
      }
    },
    {
      "cell_type": "code",
      "source": [],
      "metadata": {
        "id": "xJXFT1fqHprO"
      },
      "execution_count": null,
      "outputs": []
    },
    {
      "cell_type": "markdown",
      "source": [
        "We now have a DataFrame, where our index is the angle of the animal's head in radians, and each column represents the tuning curve of each region of interest."
      ],
      "metadata": {
        "id": "-YZn8sbqOhG0"
      }
    },
    {
      "cell_type": "markdown",
      "source": [
        "**Exercise 5**: Plot the tuning curve for the fifth region of interest"
      ],
      "metadata": {
        "id": "YJACH9gzOKPg"
      }
    },
    {
      "cell_type": "code",
      "source": [],
      "metadata": {
        "id": "k0wFJG9AN2mj"
      },
      "execution_count": null,
      "outputs": []
    },
    {
      "cell_type": "markdown",
      "source": [
        "It looks like this could be a head-direction cell. One important property of head-directions cells however, is that their firing with respect to head-direction is stable. To check for their stability, we can split our recording in two and compute a tuning curve for each half of the recording."
      ],
      "metadata": {
        "id": "-_Fq37cbPEWj"
      }
    },
    {
      "cell_type": "markdown",
      "source": [
        "**Exercise 6**: Use the appropriate Pynapple function to find the midpoint of the recording, using the shortest time support of the two variables you have. Using this, then create one new IntervalSet with two rows, one for each half of the recording."
      ],
      "metadata": {
        "id": "lLI62ctnPeF1"
      }
    },
    {
      "cell_type": "code",
      "source": [],
      "metadata": {
        "id": "rIZT3nGBO2ec"
      },
      "execution_count": null,
      "outputs": []
    },
    {
      "cell_type": "markdown",
      "source": [
        "**Exercise 7**: Compute the tuning curves for each half of the recording and plot the tuning curves for the fifth region of interest. How do they compare?"
      ],
      "metadata": {
        "id": "LIeHWZ1QXBhp"
      }
    },
    {
      "cell_type": "code",
      "source": [],
      "metadata": {
        "id": "X-QBiP_HREgz"
      },
      "execution_count": null,
      "outputs": []
    },
    {
      "cell_type": "code",
      "source": [],
      "metadata": {
        "id": "z0ymhA-nYRSK"
      },
      "execution_count": null,
      "outputs": []
    },
    {
      "cell_type": "markdown",
      "source": [
        "Looks like our region of interest is stable!"
      ],
      "metadata": {
        "id": "VlWGqnIQZy1O"
      }
    }
  ]
}