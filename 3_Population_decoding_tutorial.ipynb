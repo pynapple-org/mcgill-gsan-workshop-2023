{
 "cells": [
  {
   "cell_type": "code",
   "execution_count": null,
   "id": "dd1a2260-7cb3-4e54-abac-8ccf4e1e1228",
   "metadata": {},
   "outputs": [],
   "source": [
    "!pip install pynapple matplotlib dandi dandischema"
   ]
  },
  {
   "cell_type": "markdown",
   "id": "a1dff225",
   "metadata": {},
   "source": [
    "# Population Decoding Tutorial \n",
    "\n",
    "*Authors: Dhruv Mehrotra, Guillaume Viejo*\n",
    "\n",
    "\n",
    "This notebook demonstrates how we use Pynapple on various publicly available datasets in systems neuroscience to streamline analysis. In this notebook, we will examine the dataset from [Peyrache et al (2015)](https://www.nature.com/articles/nn.3968), which was used to generate Figure 4a in our <a href=\"https://elifesciences.org/articles/85786\" target=\"_blank\">publication</a>.  \n",
    "\n",
    "The NWB file for the example is hosted on [OSF](https://osf.io/jb2gd). We show below how to stream it.\n",
    "The entire dataset can be downloaded [here](https://dandiarchive.org/dandiset/000056).\n",
    "\n",
    "***\n",
    "\n",
    "**Note:** This tutorial uses matplotlib for displaying the figure as well as the dandi package\n",
    "\n",
    "You can install all with `pip install matplotlib dandi dandischema`\n",
    "\n",
    "***\n",
    "\n",
    "First, import the necessary libraries:"
   ]
  },
  {
   "cell_type": "code",
   "execution_count": null,
   "id": "5f9cdb3c",
   "metadata": {},
   "outputs": [],
   "source": [
    "import numpy as np\n",
    "import pandas as pd\n",
    "import pynapple as nap\n",
    "import scipy.ndimage\n",
    "import matplotlib.pyplot as plt\n",
    "import requests, math, os\n",
    "import tqdm"
   ]
  },
  {
   "cell_type": "markdown",
   "id": "9e431ad3",
   "metadata": {},
   "source": [
    "***\n",
    "\n",
    "### Downloading the data\n",
    "\n",
    "It is a small NWB file, which we can download locally onto our system. To do so, run the following lines of code:"
   ]
  },
  {
   "cell_type": "code",
   "execution_count": null,
   "id": "0a3e39db",
   "metadata": {},
   "outputs": [],
   "source": [
    "path = \"Mouse32-140822.nwb\"\n",
    "if path not in os.listdir(\".\"):\n",
    "    r = requests.get(f\"https://osf.io/jb2gd/download\", stream=True)\n",
    "    block_size = 1024*1024\n",
    "    with open(path, 'wb') as f:\n",
    "        for data in tqdm.tqdm(r.iter_content(block_size), unit='MB', unit_scale=True,\n",
    "            total=math.ceil(int(r.headers.get('content-length', 0))//block_size)):\n",
    "            f.write(data)"
   ]
  },
  {
   "cell_type": "markdown",
   "id": "a02e279e-b4f3-47d1-9059-59a4d8510f9d",
   "metadata": {},
   "source": [
    "***\n",
    "\n",
    "### Parsing the data\n",
    "\n",
    "Load the data and other relevant variables of interest\n"
   ]
  },
  {
   "cell_type": "code",
   "execution_count": null,
   "id": "0218f724-7087-43ae-8fb3-7278b8e0cd8d",
   "metadata": {},
   "outputs": [],
   "source": [
    "# Load the NWB file for this dataset\n",
    "data =   \n",
    "\n",
    "# What does this look like?\n",
    "print(data)"
   ]
  },
  {
   "cell_type": "markdown",
   "id": "7b4ae0f4",
   "metadata": {},
   "source": [
    "***\n",
    "\n",
    "### Head-Direction Tuning Curves\n",
    "\n",
    "This dataset contains units recorded from the anterior thalamus. Specifically, the anterodorsal nucleus of the thalamus (henceforth referred to as ADn), has neurons that are tuned to the direction the animal is facing in. These cells are therefore, aptly named head-direction (HD) cells. \n",
    "\n",
    "To study the direction-selectivity of cells in the ADn, we plot the firing rate of the neurons as a function of the animal's orientation. This plot is referred to as a HD 'tuning curve'. To plot HD tuning curves, we need the spike timings and the orientation of the animal. These quantities are stored in the variables 'units' and 'ry'."
   ]
  },
  {
   "cell_type": "code",
   "execution_count": null,
   "id": "f0e7ac0e",
   "metadata": {},
   "outputs": [],
   "source": [
    "# Get spike timings\n",
    "spikes = \n",
    "\n",
    "# Get the behavioural epochs \n",
    "epochs = \n",
    "\n",
    "# Get the tracked orientation of the animal\n",
    "angle = \n",
    "\n",
    "# What does this look like ?\n",
    "print(spikes)"
   ]
  },
  {
   "cell_type": "markdown",
   "id": "78a8868f",
   "metadata": {},
   "source": [
    "Here, rate is the mean firing rate of the unit. Location indicates the brain region the unit was recorded from, and group refers to the shank number on which the cell was located.\n",
    "\n",
    "As mentioned above, this dataset contains units recorded from the anterior thalamus. Head-direction (HD) cells are found only in the ADn. In this animal, units were also recorded from nearby thalamic nuclei. For the purposes of our tutorial, we are interested in the units recorded in ADn. We can restrict ourselves to analysis of these units rather easily, using Pynapple."
   ]
  },
  {
   "cell_type": "code",
   "execution_count": null,
   "id": "5600fe65",
   "metadata": {},
   "outputs": [],
   "source": [
    "# Select only those units that are in ADn\n",
    "spikes_adn = \n",
    "\n",
    "# What does this look like ?\n",
    "print(spikes_adn)"
   ]
  },
  {
   "cell_type": "markdown",
   "id": "6f828b90",
   "metadata": {},
   "source": [
    "Let's compute some head-direction tuning curves. To do this in Pynapple, all you need is a single line of code!\n",
    "\n",
    "Plot firing rate of ADn units as a function of heading direction, i.e. a head-direction tuning curve. "
   ]
  },
  {
   "cell_type": "code",
   "execution_count": null,
   "id": "85d962a5",
   "metadata": {},
   "outputs": [],
   "source": [
    "tuning_curves = \n",
    "\n",
    "# What does this look like ?\n",
    "print(tuning_curves)"
   ]
  },
  {
   "cell_type": "markdown",
   "id": "8ea5fcf5",
   "metadata": {},
   "source": [
    "Each row indicates an angular bin (in radians), and each column corresponds to a single unit. Let's compute the preferred angle quickly as follows:"
   ]
  },
  {
   "cell_type": "code",
   "execution_count": null,
   "id": "782bf027",
   "metadata": {},
   "outputs": [],
   "source": [
    "pref_ang = tuning_curves.idxmax()"
   ]
  },
  {
   "cell_type": "markdown",
   "id": "5406d261",
   "metadata": {},
   "source": [
    "For easier visualization, we will colour our plots according to the preferred angle of the cell. To do so, we will normalize the range of angles we have, over a colourmap."
   ]
  },
  {
   "cell_type": "code",
   "execution_count": null,
   "id": "922e5025",
   "metadata": {},
   "outputs": [],
   "source": [
    "norm = plt.Normalize()  # Normalizes data into the range [0,1]\n",
    "color = plt.cm.hsv(norm([i / (2 * np.pi) for i in pref_ang.values]))  # Assigns a colour in the HSV colourmap for each value of preferred angle\n",
    "color = pd.DataFrame(index=pref_ang.index, data = color, columns = ['r', 'g', 'b', 'a'])"
   ]
  },
  {
   "cell_type": "markdown",
   "id": "e5274158",
   "metadata": {},
   "source": [
    "To make the tuning curves look nice, we will smooth them before plotting, using this custom function:"
   ]
  },
  {
   "cell_type": "code",
   "execution_count": null,
   "id": "900281a7",
   "metadata": {},
   "outputs": [],
   "source": [
    "from scipy.ndimage import gaussian_filter1d\n",
    "def smoothAngularTuningCurves(tuning_curves, sigma = 2):\n",
    "\n",
    "    tmp = np.concatenate((tuning_curves.values, tuning_curves.values, tuning_curves.values))\n",
    "    tmp = gaussian_filter1d(tmp, sigma=sigma, axis=0)\n",
    "\n",
    "    return pd.DataFrame(index = tuning_curves.index,\n",
    "        data = tmp[tuning_curves.shape[0]:tuning_curves.shape[0]*2], \n",
    "        columns = tuning_curves.columns\n",
    "        )"
   ]
  },
  {
   "cell_type": "markdown",
   "id": "ce95bdc8",
   "metadata": {},
   "source": [
    "Therefore, we have:"
   ]
  },
  {
   "cell_type": "code",
   "execution_count": null,
   "id": "3b33f9f0",
   "metadata": {},
   "outputs": [],
   "source": [
    "smoothcurves = smoothAngularTuningCurves(tuning_curves, sigma = 3)"
   ]
  },
  {
   "cell_type": "markdown",
   "id": "e4cd6fe7-38b3-4ac7-b102-25a4c8e8f928",
   "metadata": {},
   "source": [
    "What does this look like? Let's plot the tuning curves!"
   ]
  },
  {
   "cell_type": "code",
   "execution_count": null,
   "id": "2e5cbd5b-e0f5-4005-ac31-610b0fd9d3d9",
   "metadata": {},
   "outputs": [],
   "source": [
    "#Plot the tuning curves \n",
    "\n"
   ]
  },
  {
   "cell_type": "markdown",
   "id": "0c0a0e47",
   "metadata": {},
   "source": [
    "Awesome! \n",
    "\n",
    "***\n",
    "\n",
    "### Decoding\n",
    "\n",
    "\n",
    "\n",
    "Now that we have HD tuning curves, we can go one step further. Using only the population activity of ADn units, we can decode the direction the animal is looking in. We will then compare this to the real head direction of the animal, and discover that population activity in the ADn indeed codes for HD. \n",
    "\n",
    "To decode the population activity, we will be using a Bayesian Decoder as implemented in Pynapple. Just a single line of code!\n",
    "\n",
    "\n"
   ]
  },
  {
   "cell_type": "code",
   "execution_count": null,
   "id": "8b2e0c8f",
   "metadata": {},
   "outputs": [],
   "source": [
    "decoded, proba_feature = \n",
    "\n",
    "#What does this look like?\n",
    "print(decoded)"
   ]
  },
  {
   "cell_type": "markdown",
   "id": "e0a20138",
   "metadata": {},
   "source": [
    "The variable *decoded* indicates the most probable angle in which the animal was looking. \n",
    "There is another variable, *proba_feature* that denotes the probability of a given angular bin at a given time point. We can look at it below:"
   ]
  },
  {
   "cell_type": "code",
   "execution_count": null,
   "id": "6dc7cd92",
   "metadata": {},
   "outputs": [],
   "source": [
    "print(proba_feature.as_dataframe())"
   ]
  },
  {
   "cell_type": "markdown",
   "id": "c749d8ab",
   "metadata": {},
   "source": [
    "Each row of this pandas DataFrame is a time bin, and each column is an angular bin. The sum of all values in a row add up to 1. \n",
    "\n",
    "Now, let's plot the raster plot for a given period of time, and overlay the actual and decoded HD on the population activity."
   ]
  },
  {
   "cell_type": "code",
   "execution_count": null,
   "id": "2ee5cec6",
   "metadata": {
    "scrolled": true
   },
   "outputs": [],
   "source": [
    "ep =  #Select an arbitrary interval for plotting\n",
    "\n",
    "# Plot the raster plot for each cell\n",
    "\n",
    "\n",
    "\n",
    "# Plot the decoded HD\n",
    "\n",
    "\n",
    "\n"
   ]
  },
  {
   "cell_type": "markdown",
   "id": "885ff30c",
   "metadata": {},
   "source": [
    "From this plot, we can see that the decoder is able to estimate the head-direction based on the population activity in ADn. Amazing! \n",
    "\n",
    "What does the probability distribution in this example event look like? \\\n",
    "Ideally, the bins with the highest probability will correspond to the bins having the most spikes. Let's plot the probability matrix to visualize this."
   ]
  },
  {
   "cell_type": "code",
   "execution_count": null,
   "id": "9acc2215",
   "metadata": {
    "scrolled": true
   },
   "outputs": [],
   "source": [
    "# Smoothening the probability distribution\n",
    "smoothed = scipy.ndimage.gaussian_filter(proba_feature, 1)  \n",
    "\n",
    "# Create a DataFrame with the smoothed distribution\n",
    "p_feature = pd.DataFrame(\n",
    "    index = proba_feature.index.values,\n",
    "    columns = proba_feature.columns.values,\n",
    "    data = smoothed,\n",
    ")\n",
    "\n",
    "# Make it a Pynapple TsdFrame\n",
    "p_feature =   \n",
    "\n",
    "#Plot the actual HD and the decoded HD, overlaying them on the smoothed probability distribution\n"
   ]
  },
  {
   "cell_type": "markdown",
   "id": "cc8c6811",
   "metadata": {},
   "source": [
    "From this probability distribution, we observe that the decoded HD very closely matches the actual HD. Therefore, the population activity in ADn is a reliable estimate of the heading direction of the animal. \n",
    "\n",
    "I hope this tutorial was helpful. If you have any questions, comments or suggestions, please feel free to reach out to the Pynapple Team!"
   ]
  }
 ],
 "metadata": {
  "kernelspec": {
   "display_name": "Python 3 (ipykernel)",
   "language": "python",
   "name": "python3"
  },
  "language_info": {
   "codemirror_mode": {
    "name": "ipython",
    "version": 3
   },
   "file_extension": ".py",
   "mimetype": "text/x-python",
   "name": "python",
   "nbconvert_exporter": "python",
   "pygments_lexer": "ipython3",
   "version": "3.10.9"
  }
 },
 "nbformat": 4,
 "nbformat_minor": 5
}
