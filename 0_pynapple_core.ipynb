{
 "cells": [
  {
   "cell_type": "code",
   "execution_count": null,
   "metadata": {
    "colab": {
     "base_uri": "https://localhost:8080/"
    },
    "id": "l-vslaKXIm20",
    "outputId": "84731e5f-fe80-4429-a9f9-99898f832b91"
   },
   "outputs": [],
   "source": [
    "!pip install pynapple matplotlib"
   ]
  },
  {
   "cell_type": "markdown",
   "metadata": {
    "id": "fjmpanbHS9BE"
   },
   "source": [
    "Let's start by importing the pynapple package and matplotlib for plotting figures"
   ]
  },
  {
   "cell_type": "code",
   "execution_count": null,
   "metadata": {
    "colab": {
     "base_uri": "https://localhost:8080/"
    },
    "id": "xk78RSd2I5Jr",
    "outputId": "bb9fc5cb-df66-4627-fcba-c2814a29fd50"
   },
   "outputs": [],
   "source": [
    "import pynapple as nap\n",
    "import matplotlib.pyplot as plt"
   ]
  },
  {
   "cell_type": "markdown",
   "metadata": {},
   "source": [
    "**The documentation of the pynapple core can be found here : https://pynapple-org.github.io/pynapple/reference/SUMMARY/**"
   ]
  },
  {
   "cell_type": "markdown",
   "metadata": {
    "id": "U61BfVyBTW9G"
   },
   "source": [
    "# Introduction to time series object\n",
    "\n",
    "The next cell creates artificial data. Every time point is 1 second apart. In this experiment, we start by collecting one data stream. Here *t* and *d* are the timestamps and data, respectively."
   ]
  },
  {
   "cell_type": "code",
   "execution_count": null,
   "metadata": {
    "colab": {
     "base_uri": "https://localhost:8080/"
    },
    "id": "wML0hS3LVbJ-",
    "outputId": "ff540206-f373-44fd-b72e-73191ab45a90"
   },
   "outputs": [],
   "source": [
    "import numpy as np\n",
    "\n",
    "rng = np.random.default_rng(seed=42) #the answer to the Ultimate Question of Life, the Universe, and Everything\n",
    "\n",
    "t = np.arange(0, 1000)\n",
    "\n",
    "d = np.random.randn(1000, 5, 5)\n",
    "d[:,0,0] += np.cos(t*0.05)"
   ]
  },
  {
   "cell_type": "markdown",
   "metadata": {
    "id": "Z3UJUbo6mQvY"
   },
   "source": [
    "\n",
    "\n",
    "---\n",
    "\n",
    "**Question 1** : Can you convert the data to the right pynapple object?"
   ]
  },
  {
   "cell_type": "code",
   "execution_count": null,
   "metadata": {
    "colab": {
     "base_uri": "https://localhost:8080/"
    },
    "id": "6X5jW-5pXXqs",
    "outputId": "4c6307d0-4145-4496-d577-d3881f8f654b"
   },
   "outputs": [],
   "source": []
  },
  {
   "cell_type": "markdown",
   "metadata": {
    "id": "ePtzqGEMVk0S"
   },
   "source": [
    "**Question 2:** Can you print your object to see its dimensions?"
   ]
  },
  {
   "cell_type": "code",
   "execution_count": null,
   "metadata": {
    "colab": {
     "base_uri": "https://localhost:8080/"
    },
    "id": "48NSYsY5m6Zs",
    "outputId": "52727faf-dea7-47c7-fc84-6c7373213e6d"
   },
   "outputs": [],
   "source": []
  },
  {
   "cell_type": "markdown",
   "metadata": {
    "id": "Zz0tK6janBfo"
   },
   "source": [
    "**Question 3**: If your datastream is a movie, can you extract the time series of the pixel at coordinate (0, 0)?"
   ]
  },
  {
   "cell_type": "code",
   "execution_count": null,
   "metadata": {
    "colab": {
     "base_uri": "https://localhost:8080/"
    },
    "id": "t9i1LN-Kn-Au",
    "outputId": "2150c9f5-cf1a-4766-d981-9555cb6558fb"
   },
   "outputs": [],
   "source": []
  },
  {
   "cell_type": "markdown",
   "metadata": {
    "id": "eNoIdlxvpF6f"
   },
   "source": [
    "**Question 4**: We are interested in only the first 100 seconds and last 100 seconds of the recording. Can you restrict the first data stream to those epochs only? Don't forget to visualize the output of your operation."
   ]
  },
  {
   "cell_type": "code",
   "execution_count": null,
   "metadata": {
    "colab": {
     "base_uri": "https://localhost:8080/"
    },
    "id": "7Ru1GC-kpqao",
    "outputId": "4d1bddf2-9158-45b2-c2a3-3e6ef83ab761"
   },
   "outputs": [],
   "source": []
  },
  {
   "cell_type": "markdown",
   "metadata": {
    "id": "CaF81C-hqBZK"
   },
   "source": [
    "**Question 5:** Can you average all the pixels only from those two epochs?"
   ]
  },
  {
   "cell_type": "code",
   "execution_count": null,
   "metadata": {
    "colab": {
     "base_uri": "https://localhost:8080/"
    },
    "id": "PXlfov5jqQmH",
    "outputId": "3013ef2c-7be3-45e7-91a1-1506bab7b0f6"
   },
   "outputs": [],
   "source": []
  },
  {
   "cell_type": "markdown",
   "metadata": {
    "id": "qAI1E4-IqxSM"
   },
   "source": [
    "**Question 6**: Can you average along the time axis during the same two epochs?"
   ]
  },
  {
   "cell_type": "code",
   "execution_count": null,
   "metadata": {
    "colab": {
     "base_uri": "https://localhost:8080/"
    },
    "id": "4B4yIl6arGGM",
    "outputId": "41bff843-becc-49da-ca52-ee1e3d36620f"
   },
   "outputs": [],
   "source": []
  },
  {
   "cell_type": "markdown",
   "metadata": {
    "id": "IvfCqubbtH5V"
   },
   "source": [
    "---\n",
    "\n",
    "# Using Ts and TsGroup\n",
    "\n",
    "Let's say you recorded neurons from thalamus and prefrontal cortex together."
   ]
  },
  {
   "cell_type": "code",
   "execution_count": null,
   "metadata": {
    "colab": {
     "base_uri": "https://localhost:8080/"
    },
    "id": "3YYkgeijEMfh",
    "outputId": "5a9ed97b-09f0-4258-8af6-b458439c6356"
   },
   "outputs": [],
   "source": [
    "t_thl_0 = nap.Ts(t=np.sort(np.random.uniform(0, 100, 1000)))\n",
    "t_thl_1 = nap.Ts(t=np.sort(np.random.uniform(0, 100, 2000)))\n",
    "t_pfc_0 = nap.Ts(t=np.sort(np.random.uniform(0, 100, 3000)))"
   ]
  },
  {
   "cell_type": "markdown",
   "metadata": {
    "id": "uKV7_E6yFZyp"
   },
   "source": [
    "**Question 7**: Can you group them together in a TsGroup and add the location to each?"
   ]
  },
  {
   "cell_type": "code",
   "execution_count": null,
   "metadata": {
    "colab": {
     "base_uri": "https://localhost:8080/"
    },
    "id": "NyK7oBx4Ff2i",
    "outputId": "31429111-1ad3-4da5-a07c-7f44c25e00ff"
   },
   "outputs": [],
   "source": []
  },
  {
   "cell_type": "markdown",
   "metadata": {
    "id": "8XdlGLDcHuFT"
   },
   "source": [
    "**Question 9**: Can you select only the neurons from the thalamus?"
   ]
  },
  {
   "cell_type": "code",
   "execution_count": null,
   "metadata": {
    "colab": {
     "base_uri": "https://localhost:8080/"
    },
    "id": "9mrz1FBNH2sH",
    "outputId": "c5ff10a6-a874-47e5-b364-35c9787dd93e"
   },
   "outputs": [],
   "source": []
  },
  {
   "cell_type": "markdown",
   "metadata": {
    "id": "Pp7_XORjGtmt"
   },
   "source": [
    "**Question 10** : Can you bin the spike trains of the thalamus in bins of 1 second?"
   ]
  },
  {
   "cell_type": "code",
   "execution_count": null,
   "metadata": {
    "colab": {
     "base_uri": "https://localhost:8080/"
    },
    "id": "1O-I9SAhGvPd",
    "outputId": "d6f4bc3e-809d-4c9c-ddfa-8b530d9f505c"
   },
   "outputs": [],
   "source": []
  },
  {
   "cell_type": "markdown",
   "metadata": {
    "id": "0Dk7pP4zHNT6"
   },
   "source": [
    "**Question 10**: Can you select the epochs for which the multi unit spike count of thalamic nurons is above 30 spikes."
   ]
  },
  {
   "cell_type": "code",
   "execution_count": null,
   "metadata": {
    "colab": {
     "base_uri": "https://localhost:8080/"
    },
    "id": "QEfRB_l6JQux",
    "outputId": "9d656e68-3408-4234-fcfe-f909d72dc637"
   },
   "outputs": [],
   "source": []
  },
  {
   "cell_type": "markdown",
   "metadata": {
    "id": "9NEAnNmJKodZ"
   },
   "source": [
    "**Question 10**: Can you restrict the spikes of the prefrontal neurons to the epochs previously defined?"
   ]
  },
  {
   "cell_type": "code",
   "execution_count": null,
   "metadata": {
    "colab": {
     "base_uri": "https://localhost:8080/"
    },
    "id": "hT1Izp-_K2Yc",
    "outputId": "c6c94060-b0f1-4c99-e876-372b70e15f96"
   },
   "outputs": [],
   "source": []
  },
  {
   "cell_type": "markdown",
   "metadata": {
    "id": "7Ty8YNNXWg1A"
   },
   "source": [
    "**Question 11**: Can you plot a raster of your population activity beween 50 and 60 s"
   ]
  },
  {
   "cell_type": "code",
   "execution_count": null,
   "metadata": {
    "colab": {
     "base_uri": "https://localhost:8080/",
     "height": 502
    },
    "id": "TfpG9zBrWrpa",
    "outputId": "a0636ceb-5428-44f2-e044-d7c6cbdbbc9d"
   },
   "outputs": [],
   "source": []
  },
  {
   "cell_type": "markdown",
   "metadata": {
    "id": "FOhNqkyMLXsM"
   },
   "source": [
    "---\n",
    "# Introduction to core functions\n",
    "\n",
    "In this next experiment, we are recording a feature sampled at 10 Hz and one neuron."
   ]
  },
  {
   "cell_type": "code",
   "execution_count": null,
   "metadata": {
    "colab": {
     "base_uri": "https://localhost:8080/"
    },
    "id": "JY369PaIRyFC",
    "outputId": "d4bd0ee5-4687-4b25-8563-dffac619c9c0"
   },
   "outputs": [],
   "source": [
    "feature = np.cos(np.sin(np.arange(0, 10, 0.1)))\n",
    "\n",
    "t = np.sort(np.random.uniform(0, 10, 20))\n",
    "\n"
   ]
  },
  {
   "cell_type": "markdown",
   "metadata": {
    "id": "g1nQTKpCYt6g"
   },
   "source": [
    "**Question 12** : Can you make the right pynapple objects out of those two data streams?"
   ]
  },
  {
   "cell_type": "code",
   "execution_count": null,
   "metadata": {
    "colab": {
     "base_uri": "https://localhost:8080/"
    },
    "id": "hkqMv6wUZBQM",
    "outputId": "420bbe91-1061-4a3d-e726-8f7a83367db4"
   },
   "outputs": [],
   "source": []
  },
  {
   "cell_type": "markdown",
   "metadata": {
    "id": "ZgsQsDRFZNqZ"
   },
   "source": [
    "**Question 13** : Can you assign for each spike of the neuron the closest value in time from the feature?"
   ]
  },
  {
   "cell_type": "code",
   "execution_count": null,
   "metadata": {
    "colab": {
     "base_uri": "https://localhost:8080/"
    },
    "id": "qVCLeYJZZhSF",
    "outputId": "62a01f38-987f-491c-b6c9-93f394695fda"
   },
   "outputs": [],
   "source": []
  },
  {
   "cell_type": "markdown",
   "metadata": {
    "id": "-WgYwASvZv8P"
   },
   "source": [
    "**Question 14**: Can you plot the feature and the spikes with the assigned value?"
   ]
  },
  {
   "cell_type": "code",
   "execution_count": null,
   "metadata": {
    "colab": {
     "base_uri": "https://localhost:8080/",
     "height": 502
    },
    "id": "wskcOeDIZ3OL",
    "outputId": "bca22d62-4e06-4f8b-fa9e-1dbf8d39fa8d"
   },
   "outputs": [],
   "source": []
  }
 ],
 "metadata": {
  "colab": {
   "provenance": []
  },
  "kernelspec": {
   "display_name": "Python 3 (ipykernel)",
   "language": "python",
   "name": "python3"
  },
  "language_info": {
   "codemirror_mode": {
    "name": "ipython",
    "version": 3
   },
   "file_extension": ".py",
   "mimetype": "text/x-python",
   "name": "python",
   "nbconvert_exporter": "python",
   "pygments_lexer": "ipython3",
   "version": "3.10.13"
  }
 },
 "nbformat": 4,
 "nbformat_minor": 4
}
